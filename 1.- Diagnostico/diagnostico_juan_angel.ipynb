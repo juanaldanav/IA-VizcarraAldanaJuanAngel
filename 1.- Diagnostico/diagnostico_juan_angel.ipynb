{
 "cells": [
  {
   "cell_type": "markdown",
   "id": "be66c6e7",
   "metadata": {},
   "source": [
    "# Examen Diagnóstico de un árbol binario de búsqueda\n",
    "**Autor: Juan Angel Vizcarra Aldana**"
   ]
  },
  {
   "cell_type": "code",
   "execution_count": null,
   "id": "b36a3fb0",
   "metadata": {},
   "outputs": [],
   "source": [
    "\n",
    "# Representa un nodo en un árbol binario de búsqueda.\n",
    "class Nodo:\n",
    "    def __init__(self, nombre):\n",
    "        self.nombre = nombre   \n",
    "        self.izquierda = None\n",
    "        self.derecha = None\n"
   ]
  },
  {
   "cell_type": "code",
   "execution_count": null,
   "id": "f6c7f468",
   "metadata": {},
   "outputs": [],
   "source": [
    "\n",
    "# Implementación mejorada de árbol binario con operaciones básicas.\n",
    "class ArbolBinario:\n",
    "    def __init__(self):\n",
    "        self.raiz = None\n",
    "\n",
    "    def esta_vacio(self):\n",
    "        return self.raiz is None\n",
    "\n",
    "    def insertar(self, nombre):\n",
    "        if self.raiz is None:\n",
    "            self.raiz = Nodo(nombre)\n",
    "            return True\n",
    "\n",
    "        actual = self.raiz\n",
    "        while True:\n",
    "            if nombre < actual.nombre:\n",
    "                if actual.izquierda is None:\n",
    "                    actual.izquierda = Nodo(nombre)\n",
    "                    return True\n",
    "                actual = actual.izquierda\n",
    "            elif nombre > actual.nombre:\n",
    "                if actual.derecha is None:\n",
    "                    actual.derecha = Nodo(nombre)\n",
    "                    return True\n",
    "                actual = actual.derecha\n",
    "            else:\n",
    "                return False\n",
    "\n",
    "    def buscar(self, nombre):\n",
    "        actual = self.raiz\n",
    "        while actual:\n",
    "            if actual.nombre == nombre:\n",
    "                return actual\n",
    "            actual = actual.izquierda if nombre < actual.nombre else actual.derecha\n",
    "        return None\n",
    "\n",
    "    def recorrido_inorden(self):\n",
    "        resultado = []\n",
    "        pila = []\n",
    "        actual = self.raiz\n",
    "\n",
    "        while pila or actual:\n",
    "            while actual:\n",
    "                pila.append(actual)\n",
    "                actual = actual.izquierda\n",
    "            actual = pila.pop()\n",
    "            resultado.append(actual.nombre)\n",
    "            actual = actual.derecha\n",
    "\n",
    "        return resultado\n",
    "\n",
    "    def altura(self):\n",
    "        def _calcular_altura(nodo):\n",
    "            if nodo is None:\n",
    "                return 0\n",
    "            return 1 + max(_calcular_altura(nodo.izquierda), _calcular_altura(nodo.derecha))\n",
    "\n",
    "        return _calcular_altura(self.raiz) - 1 if self.raiz else 0\n"
   ]
  },
  {
   "cell_type": "code",
   "execution_count": null,
   "id": "b00a2f56",
   "metadata": {},
   "outputs": [],
   "source": [
    "\n",
    "arbol_familiar = ArbolBinario()\n",
    "\n",
    "print(\"El árbol está vacío\" if arbol_familiar.esta_vacio() else \"El árbol no está vacío\")\n",
    "\n",
    "# Insertar miembros con nombres nuevos\n",
    "for nombre in [\"Bruno\", \"Valeria\", \"Luis\", \"Emilia\", \"Gael\", \"Ximena\", \"Luis\"]:\n",
    "    if arbol_familiar.insertar(nombre):\n",
    "        print(f\"{nombre} insertado correctamente\")\n",
    "    else:\n",
    "        print(f\"{nombre} duplicado, no se insertó\")\n"
   ]
  },
  {
   "cell_type": "code",
   "execution_count": null,
   "id": "eff20a70",
   "metadata": {},
   "outputs": [],
   "source": [
    "\n",
    "# Resultados de búsqueda\n",
    "nombres_buscar = [\"Gael\", \"Valeria\", \"Carmen\"]\n",
    "for nombre in nombres_buscar:\n",
    "    encontrado = \"Encontrado\" if arbol_familiar.buscar(nombre) else \"No encontrado\"\n",
    "    print(f\"Búsqueda de {nombre}: {encontrado}\")\n"
   ]
  },
  {
   "cell_type": "code",
   "execution_count": null,
   "id": "b8deeb35",
   "metadata": {},
   "outputs": [],
   "source": [
    "\n",
    "print(\"\\nRecorrido inorden:\", arbol_familiar.recorrido_inorden())\n",
    "print(\"Altura del árbol:\", arbol_familiar.altura())\n"
   ]
  }
 ],
 "metadata": {},
 "nbformat": 4,
 "nbformat_minor": 5
}
