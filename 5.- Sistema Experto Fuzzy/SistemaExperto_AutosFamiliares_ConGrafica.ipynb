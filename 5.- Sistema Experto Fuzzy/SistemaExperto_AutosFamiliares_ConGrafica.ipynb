{
 "cells": [
  {
   "cell_type": "code",
   "execution_count": null,
   "id": "bcd8b1db",
   "metadata": {},
   "outputs": [],
   "source": [
    "# Sistema Experto para Autos Familiares\n",
    "# Autor: Juan Angel Vizcarra Aldana"
   ]
  },
  {
   "cell_type": "code",
   "execution_count": null,
   "id": "f7a562d2",
   "metadata": {},
   "outputs": [],
   "source": [
    "import numpy as np\n",
    "import skfuzzy as fuzz\n",
    "from skfuzzy import control as ctrl\n",
    "import matplotlib.pyplot as plt\n"
   ]
  },
  {
   "cell_type": "code",
   "execution_count": null,
   "id": "c6aabae2",
   "metadata": {},
   "outputs": [],
   "source": [
    "# Definición de variables difusas\n",
    "consumo = ctrl.Antecedent(np.arange(5, 21, 1), 'consumo')  # L/100km\n",
    "consumo['bajo'] = fuzz.trapmf(consumo.universe, [5, 5, 7, 9])\n",
    "consumo['medio'] = fuzz.trimf(consumo.universe, [8, 11, 14])\n",
    "consumo['alto'] = fuzz.trapmf(consumo.universe, [13, 16, 20, 20])\n",
    "\n",
    "espacio = ctrl.Antecedent(np.arange(200, 601, 10), 'espacio')  # litros\n",
    "espacio['reducido'] = fuzz.trapmf(espacio.universe, [200, 200, 300, 350])\n",
    "espacio['amplio'] = fuzz.trimf(espacio.universe, [300, 400, 500])\n",
    "espacio['muy_amplio'] = fuzz.trapmf(espacio.universe, [450, 500, 600, 600])\n",
    "\n",
    "seguridad = ctrl.Antecedent(np.arange(1, 6, 1), 'seguridad')  # NCAP\n",
    "seguridad['baja'] = fuzz.trapmf(seguridad.universe, [1, 1, 2, 3])\n",
    "seguridad['media'] = fuzz.trimf(seguridad.universe, [2, 3, 4])\n",
    "seguridad['alta'] = fuzz.trapmf(seguridad.universe, [3, 4, 5, 5])\n",
    "\n",
    "idoneidad = ctrl.Consequent(np.arange(0, 101, 1), 'idoneidad')\n",
    "idoneidad['poco_adecuado'] = fuzz.trimf(idoneidad.universe, [0, 20, 40])\n",
    "idoneidad['regular'] = fuzz.trimf(idoneidad.universe, [30, 50, 70])\n",
    "idoneidad['bueno'] = fuzz.trimf(idoneidad.universe, [60, 75, 90])\n",
    "idoneidad['excelente'] = fuzz.trimf(idoneidad.universe, [80, 90, 100])\n"
   ]
  },
  {
   "cell_type": "code",
   "execution_count": null,
   "id": "442f4456",
   "metadata": {},
   "outputs": [],
   "source": [
    "# Reglas difusas\n",
    "reglas = [\n",
    "    ctrl.Rule(consumo['bajo'] & espacio['muy_amplio'] & seguridad['alta'], idoneidad['excelente']),\n",
    "    ctrl.Rule(consumo['medio'] & espacio['amplio'] & seguridad['alta'], idoneidad['bueno']),\n",
    "    ctrl.Rule(consumo['alto'] | espacio['reducido'], idoneidad['poco_adecuado']),\n",
    "    ctrl.Rule(consumo['medio'] & espacio['reducido'], idoneidad['regular']),\n",
    "    ctrl.Rule(espacio['amplio'] & seguridad['media'], idoneidad['bueno']),\n",
    "    ctrl.Rule(consumo['bajo'] & seguridad['media'], idoneidad['regular']),\n",
    "    ctrl.Rule(consumo['alto'] & seguridad['baja'], idoneidad['poco_adecuado']),\n",
    "]\n",
    "sistema_ctrl = ctrl.ControlSystem(reglas)\n"
   ]
  },
  {
   "cell_type": "code",
   "execution_count": null,
   "id": "7041a2a5",
   "metadata": {},
   "outputs": [],
   "source": [
    "# Evaluación de autos\n",
    "autos = {\n",
    "    \"Toyota Sienna\": (8.5, 500, 5),\n",
    "    \"Chevrolet Aveo\": (13, 300, 3),\n",
    "    \"Honda CR-V\": (7.8, 460, 4),\n",
    "    \"Volkswagen Jetta\": (6.5, 400, 4),\n",
    "    \"Kia Rio\": (6.7, 325, 3)\n",
    "}\n",
    "\n",
    "resultados = {}\n",
    "\n",
    "for nombre, (c, e, s) in autos.items():\n",
    "    try:\n",
    "        sistema_sim = ctrl.ControlSystemSimulation(sistema_ctrl)\n",
    "        sistema_sim.input['consumo'] = c\n",
    "        sistema_sim.input['espacio'] = e\n",
    "        sistema_sim.input['seguridad'] = s\n",
    "        sistema_sim.compute()\n",
    "\n",
    "        if 'idoneidad' in sistema_sim.output:\n",
    "            resultados[nombre] = sistema_sim.output['idoneidad']\n",
    "        else:\n",
    "            print(f\"❌ No se generó salida para {nombre}\")\n",
    "            resultados[nombre] = None\n",
    "    except Exception as e:\n",
    "        print(f\"❌ Error al evaluar {nombre}: {e}\")\n",
    "        resultados[nombre] = None\n",
    "\n",
    "print(\"\\n=== RESULTADOS ===\")\n",
    "for nombre, valor in resultados.items():\n",
    "    print(f\"{nombre:<20}: {valor:.1f}/100\" if valor is not None else f\"{nombre:<20}: ❌ No evaluado\")\n"
   ]
  },
  {
   "cell_type": "code",
   "execution_count": null,
   "id": "4da7b31c",
   "metadata": {},
   "outputs": [],
   "source": [
    "# Gráfica de resultados\n",
    "plt.figure(figsize=(10, 5))\n",
    "autos = list(resultados.keys())\n",
    "puntajes = list(resultados.values())\n",
    "\n",
    "plt.bar(autos, puntajes, color='skyblue')\n",
    "plt.title('Evaluación de Autos Familiares por Idoneidad (0-100)', fontsize=14)\n",
    "plt.xlabel('Vehículo')\n",
    "plt.ylabel('Puntuación')\n",
    "plt.ylim(0, 100)\n",
    "plt.xticks(rotation=20)\n",
    "plt.grid(axis='y', linestyle='--', alpha=0.5)\n",
    "plt.tight_layout()\n",
    "plt.show()\n"
   ]
  }
 ],
 "metadata": {},
 "nbformat": 4,
 "nbformat_minor": 5
}
