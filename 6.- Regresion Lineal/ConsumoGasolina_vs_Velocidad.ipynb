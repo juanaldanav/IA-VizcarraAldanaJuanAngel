{
 "cells": [
  {
   "cell_type": "markdown",
   "id": "3dd088e1",
   "metadata": {},
   "source": [
    "# Regresión Lineal - Consumo de Gasolina en Función de la Velocidad\n",
    "**Autor: Juan Ángel Vizcarra Aldana**\n",
    "\n",
    "Este estudio simula cómo varía el consumo de gasolina (en L/100km) en función de la velocidad promedio de un automóvil. Se aplica regresión lineal simple para encontrar el modelo que predice el consumo con base en la velocidad."
   ]
  },
  {
   "cell_type": "code",
   "execution_count": null,
   "id": "666388f5",
   "metadata": {},
   "outputs": [],
   "source": [
    "import numpy as np\n",
    "import pandas as pd\n",
    "import matplotlib.pyplot as plt\n",
    "from sklearn.linear_model import LinearRegression\n",
    "from sklearn.metrics import mean_squared_error, r2_score"
   ]
  },
  {
   "cell_type": "code",
   "execution_count": null,
   "id": "dffb0e5d",
   "metadata": {},
   "outputs": [],
   "source": [
    "# Simulación de datos\n",
    "velocidad = np.array([30, 40, 50, 60, 70, 80, 90, 100, 110, 120])\n",
    "consumo = np.array([11.5, 9.8, 8.7, 7.9, 7.3, 7.0, 7.1, 7.4, 8.2, 9.1])\n",
    "\n",
    "df = pd.DataFrame({'Velocidad (km/h)': velocidad, 'Consumo (L/100km)': consumo})\n",
    "df"
   ]
  },
  {
   "cell_type": "code",
   "execution_count": null,
   "id": "ca4d8fc8",
   "metadata": {},
   "outputs": [],
   "source": [
    "# Crear y entrenar el modelo\n",
    "X = velocidad.reshape(-1, 1)\n",
    "y = consumo\n",
    "modelo = LinearRegression()\n",
    "modelo.fit(X, y)\n",
    "\n",
    "pendiente = modelo.coef_[0]\n",
    "intercepto = modelo.intercept_\n",
    "r2 = modelo.score(X, y)\n",
    "y_pred = modelo.predict(X)\n",
    "\n",
    "print(f\"Modelo: Consumo = {pendiente:.4f} * Velocidad + {intercepto:.4f}\")\n",
    "print(f\"R² del modelo: {r2:.4f}\")"
   ]
  },
  {
   "cell_type": "code",
   "execution_count": null,
   "id": "a152271b",
   "metadata": {},
   "outputs": [],
   "source": [
    "# Visualización de los datos y la línea de regresión\n",
    "plt.figure(figsize=(10, 6))\n",
    "plt.scatter(velocidad, consumo, color='blue', label='Datos observados')\n",
    "plt.plot(velocidad, y_pred, color='red', linestyle='--', linewidth=2, label='Modelo lineal')\n",
    "plt.title('Consumo de Gasolina vs Velocidad')\n",
    "plt.xlabel('Velocidad (km/h)')\n",
    "plt.ylabel('Consumo (L/100km)')\n",
    "plt.legend()\n",
    "plt.grid(True)\n",
    "plt.tight_layout()\n",
    "plt.show()"
   ]
  },
  {
   "cell_type": "code",
   "execution_count": null,
   "id": "697df17f",
   "metadata": {},
   "outputs": [],
   "source": [
    "# Evaluación del modelo\n",
    "mse = mean_squared_error(y, y_pred)\n",
    "rmse = np.sqrt(mse)\n",
    "\n",
    "print(f\"Error cuadrático medio (MSE): {mse:.4f}\")\n",
    "print(f\"Raíz del error cuadrático medio (RMSE): {rmse:.4f}\")"
   ]
  }
 ],
 "metadata": {},
 "nbformat": 4,
 "nbformat_minor": 5
}
