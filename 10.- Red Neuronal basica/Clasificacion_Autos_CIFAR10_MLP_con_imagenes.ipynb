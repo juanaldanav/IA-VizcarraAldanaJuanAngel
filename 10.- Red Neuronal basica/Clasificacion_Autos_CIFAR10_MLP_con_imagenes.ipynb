{
 "cells": [
  {
   "cell_type": "markdown",
   "id": "c805a721",
   "metadata": {},
   "source": [
    "# Clasificación de Imágenes de Autos con MLP (CIFAR-10)\n",
    "**Autor: Juan Ángel Vizcarra Aldana**\n",
    "\n",
    "Este notebook entrena un modelo de red neuronal (MLP) usando el dataset CIFAR-10 para identificar imágenes de automóviles (clase 1) contra otras clases (clase 0).\n",
    "\n",
    "### ¿Qué hace este notebook?\n",
    "- Carga y normaliza el dataset CIFAR-10.\n",
    "- Convierte la tarea en un problema de clasificación binaria (Auto vs No Auto).\n",
    "- Entrena un modelo de red neuronal.\n",
    "- Muestra métricas y gráficas de desempeño.\n",
    "\n",
    "> 💡 Ejecuta las celdas en orden para asegurar el correcto funcionamiento.\n"
   ]
  },
  {
   "cell_type": "markdown",
   "id": "e90e6f01",
   "metadata": {},
   "source": [
    "# Clasificación de Imágenes de Autos con MLP (CIFAR-10)\n",
    "**Autor: Juan Ángel Vizcarra Aldana**"
   ]
  },
  {
   "cell_type": "code",
   "execution_count": null,
   "id": "59be145e",
   "metadata": {},
   "outputs": [],
   "source": [
    "import numpy as np\n",
    "import matplotlib.pyplot as plt\n",
    "from tensorflow.keras.datasets import cifar10\n",
    "from tensorflow.keras.utils import to_categorical\n",
    "from tensorflow.keras.models import Sequential\n",
    "from tensorflow.keras.layers import Dense, Flatten\n",
    "from sklearn.metrics import confusion_matrix, ConfusionMatrixDisplay"
   ]
  },
  {
   "cell_type": "code",
   "execution_count": null,
   "id": "924a29c1",
   "metadata": {},
   "outputs": [],
   "source": [
    "(x_train, y_train), (x_test, y_test) = cifar10.load_data()\n",
    "x_train = x_train.astype('float32') / 255.0\n",
    "x_test = x_test.astype('float32') / 255.0\n",
    "y_train_bin = (y_train.flatten() == 1).astype(int)\n",
    "y_test_bin = (y_test.flatten() == 1).astype(int)\n",
    "y_train_cat = to_categorical(y_train_bin, 2)\n",
    "y_test_cat = to_categorical(y_test_bin, 2)"
   ]
  },
  {
   "cell_type": "code",
   "execution_count": null,
   "id": "09e7e0a6",
   "metadata": {},
   "outputs": [],
   "source": [
    "mlp_model = Sequential([\n",
    "    Flatten(input_shape=(32, 32, 3)),\n",
    "    Dense(256, activation='relu'),\n",
    "    Dense(128, activation='relu'),\n",
    "    Dense(2, activation='softmax')\n",
    "])\n",
    "mlp_model.compile(optimizer='adam', loss='categorical_crossentropy', metrics=['accuracy'])\n",
    "mlp_model.summary()"
   ]
  },
  {
   "cell_type": "code",
   "execution_count": null,
   "id": "02ff127c",
   "metadata": {},
   "outputs": [],
   "source": [
    "history_mlp = mlp_model.fit(x_train, y_train_cat, epochs=10, batch_size=64, \n",
    "                          validation_split=0.2, verbose=1)"
   ]
  },
  {
   "cell_type": "code",
   "execution_count": null,
   "id": "0c97f758",
   "metadata": {},
   "outputs": [],
   "source": [
    "loss, acc = mlp_model.evaluate(x_test, y_test_cat, verbose=0)\n",
    "print(f\"Precisión en test (MLP): {acc:.4f}\")"
   ]
  },
  {
   "cell_type": "code",
   "execution_count": null,
   "id": "ff34c887",
   "metadata": {},
   "outputs": [],
   "source": [
    "plt.figure(figsize=(12, 5))\n",
    "plt.subplot(1, 2, 1)\n",
    "plt.plot(history_mlp.history['loss'], label='Pérdida Entrenamiento')\n",
    "plt.plot(history_mlp.history['val_loss'], label='Pérdida Validación')\n",
    "plt.title('MLP - Curva de Pérdida')\n",
    "plt.legend()\n",
    "\n",
    "plt.subplot(1, 2, 2)\n",
    "plt.plot(history_mlp.history['accuracy'], label='Precisión Entrenamiento')\n",
    "plt.plot(history_mlp.history['val_accuracy'], label='Precisión Validación')\n",
    "plt.title('MLP - Curva de Precisión')\n",
    "plt.legend()\n",
    "plt.tight_layout()\n",
    "plt.show()"
   ]
  },
  {
   "cell_type": "code",
   "execution_count": null,
   "id": "e966ae65",
   "metadata": {},
   "outputs": [],
   "source": [
    "y_pred_mlp = mlp_model.predict(x_test).argmax(axis=1)\n",
    "disp = ConfusionMatrixDisplay.from_predictions(y_test_bin, y_pred_mlp, display_labels=['No Auto', 'Auto'])\n",
    "disp.ax_.set_title('Matriz de Confusión - MLP')\n",
    "plt.show()"
   ]
  },
  {
   "cell_type": "code",
   "execution_count": null,
   "id": "bd1d000b",
   "metadata": {},
   "outputs": [],
   "source": [
    "# Mostrar 10 imágenes del conjunto de test: 5 autos y 5 no-autos\n",
    "import matplotlib.pyplot as plt\n",
    "\n",
    "clases = {1: \"Auto\", 0: \"No Auto\"}  # 1 = coche en CIFAR-10\n",
    "\n",
    "fig, axs = plt.subplots(2, 5, figsize=(12, 6))\n",
    "autos_mostrados = 0\n",
    "no_autos_mostrados = 0\n",
    "i = 0\n",
    "\n",
    "while autos_mostrados < 5 or no_autos_mostrados < 5:\n",
    "    img = x_test[i]\n",
    "    etiqueta = y_test_bin[i]\n",
    "\n",
    "    if etiqueta == 1 and autos_mostrados < 5:\n",
    "        axs[0, autos_mostrados].imshow(img)\n",
    "        axs[0, autos_mostrados].set_title(f\"{clases[1]}\")\n",
    "        axs[0, autos_mostrados].axis('off')\n",
    "        autos_mostrados += 1\n",
    "    elif etiqueta == 0 and no_autos_mostrados < 5:\n",
    "        axs[1, no_autos_mostrados].imshow(img)\n",
    "        axs[1, no_autos_mostrados].set_title(f\"{clases[0]}\")\n",
    "        axs[1, no_autos_mostrados].axis('off')\n",
    "        no_autos_mostrados += 1\n",
    "\n",
    "    i += 1\n",
    "\n",
    "plt.suptitle(\"Ejemplos CIFAR-10: Autos vs No-Autos\")\n",
    "plt.tight_layout()\n",
    "plt.show()\n"
   ]
  }
 ],
 "metadata": {},
 "nbformat": 4,
 "nbformat_minor": 5
}
